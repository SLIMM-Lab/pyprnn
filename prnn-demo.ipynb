{
 "cells": [
  {
   "cell_type": "code",
   "execution_count": null,
   "id": "b8d0c6d9-ed79-4572-b702-4b84d2ed6992",
   "metadata": {},
   "outputs": [],
   "source": [
    "%load_ext autoreload\n",
    "%autoreload 2\n",
    "\n",
    "import random\n",
    "import numpy as np\n",
    "from prnn import PRNN\n",
    "\n",
    "# File with training, validation and/or test sets\n",
    "\n",
    "dataset = ['training_ps_gp_060.data']"
   ]
  },
  {
   "cell_type": "code",
   "execution_count": null,
   "id": "4f01df84-4983-4633-adfe-fd39a5312513",
   "metadata": {},
   "outputs": [],
   "source": [
    "# Create NN \n",
    " \n",
    "prnn = PRNN(dataset, bulkPoints = 2, trSize = 18, name = \"prnn_GPcurve\")\n",
    "prnn.train()"
   ]
  },
  {
   "cell_type": "code",
   "execution_count": null,
   "id": "638c3eca-443e-4f96-86c1-c3f0d5cb10ce",
   "metadata": {},
   "outputs": [],
   "source": [
    "# Test NN\n",
    "\n",
    "prnn.eval(evalncurves=5)"
   ]
  },
  {
   "cell_type": "code",
   "execution_count": null,
   "id": "1148ad7b-ff3c-40cd-99b8-56b3f7778dd8",
   "metadata": {},
   "outputs": [],
   "source": [
    "# Continue training\n",
    "\n",
    "prnn.train(epochs=50)\n",
    "prnn.eval(evalncurves=5)"
   ]
  },
  {
   "cell_type": "code",
   "execution_count": null,
   "id": "6c2a455e-fb7d-469a-9272-59cbb52a6996",
   "metadata": {},
   "outputs": [],
   "source": [
    "# Load network from file and eval\n",
    "\n",
    "loaded = PRNN(dataset, bulkPoints = 2, trSize = 18, name = \"prnn_GPcurve\", loadState = True)\n",
    "loaded.eval(evalncurves=5)"
   ]
  },
  {
   "cell_type": "code",
   "execution_count": null,
   "id": "3df02091-eb53-4ee1-8286-e96de927e482",
   "metadata": {},
   "outputs": [],
   "source": []
  }
 ],
 "metadata": {
  "kernelspec": {
   "display_name": "Python 3 (ipykernel)",
   "language": "python",
   "name": "python3"
  },
  "language_info": {
   "codemirror_mode": {
    "name": "ipython",
    "version": 3
   },
   "file_extension": ".py",
   "mimetype": "text/x-python",
   "name": "python",
   "nbconvert_exporter": "python",
   "pygments_lexer": "ipython3",
   "version": "3.10.12"
  }
 },
 "nbformat": 4,
 "nbformat_minor": 5
}
